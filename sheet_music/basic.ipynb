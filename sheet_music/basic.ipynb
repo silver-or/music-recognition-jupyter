{
 "cells": [
  {
   "cell_type": "code",
   "execution_count": 1,
   "outputs": [],
   "source": [
    "# image grayscale, binaryization\n",
    "def threshold(image):\n",
    "    image = cv2.cvtColor(image, cv2.COLOR_BGR2GRAY)\n",
    "    ret, image = cv2.threshold(image, 127, 255, cv2.THRESH_BINARY_INV | cv2.THRESH_OTSU)\n",
    "    return image"
   ],
   "metadata": {
    "collapsed": false,
    "pycharm": {
     "name": "#%%\n"
    }
   }
  },
  {
   "cell_type": "code",
   "execution_count": 14,
   "outputs": [
    {
     "name": "stdout",
     "output_type": "stream",
     "text": [
      "[[0 0 0 ... 0 0 0]\n",
      " [0 0 0 ... 0 0 0]\n",
      " [0 0 0 ... 0 0 0]\n",
      " ...\n",
      " [0 0 0 ... 0 0 0]\n",
      " [0 0 0 ... 0 0 0]\n",
      " [0 0 0 ... 0 0 0]]\n"
     ]
    }
   ],
   "source": [
    "import cv2\n",
    "import os\n",
    "import numpy as np\n",
    "\n",
    "# 이미지 불러오기\n",
    "sheet = './data/school_bell.jpg'\n",
    "image = cv2.imread(sheet)\n",
    "\n",
    "# 1. 보표 영역 추출 및 그 외 노이즈 제거\n",
    "image = threshold(image)  # 이미지 이진화\n",
    "mask = np.zeros(image.shape, np.uint8)  # 보표 영역만 추출하기 위해 마스크 생성\n",
    "print(mask)\n",
    "\n",
    "cnt, labels, stats, centroids = cv2.connectedComponentsWithStats(image)  # 레이블링\n",
    "# (cnt: 객체 수, labels: 레이블맵 행렬, stats: 객체 정보, centroids: 무게 중심 좌표)\n",
    "# stats에는 x좌표, y좌표, 넓이, 높이, 픽셀의 개수 등의 정보가 담겨있다.\n",
    "\n",
    "for i in range(1, cnt):\n",
    "    x, y, w, h, area = stats[i]\n",
    "    if w > image.shape[1] * 0.5:  # 보표 영역에만\n",
    "        cv2.rectangle(mask, (x, y, w, h), (255, 0, 0), -1)  # 사각형 그리기\n",
    "'''\n",
    "마스크 이미지에 사각형을 그릴 때 rectangle 함수의 마지막 파라미터가 -1로 바뀌게 되는데,\n",
    "이는 사각형에서 테두리만을 그리는 게 아니라 사각형 안을 채워 그려 넣음을 의미한다.\n",
    "and 연산은 두 이미지에서 흰색 부분만을 합치는 것을 의미하기에 save 폴더의 school-bell-masked-img.png 와 같은 이미지가 나온다.\n",
    "'''\n",
    "\n",
    "masked_image = cv2.bitwise_and(image, mask)  # 보표 영역 추출\n",
    "\n",
    "# 이미지 띄우기\n",
    "# cv2.imwrite('./save/school-bell-gray.png', img)\n",
    "# cv2.imwrite('./save/school-bell-masked-img.png', masked_image)\n",
    "# cv2.imshow('sheet', img)\n",
    "cv2.waitKey(0)\n",
    "cv2.destroyAllWindows()"
   ],
   "metadata": {
    "collapsed": false,
    "pycharm": {
     "name": "#%%\n"
    }
   }
  }
 ],
 "metadata": {
  "kernelspec": {
   "name": "conda",
   "language": "python",
   "display_name": "crp"
  },
  "language_info": {
   "codemirror_mode": {
    "name": "ipython",
    "version": 2
   },
   "file_extension": ".py",
   "mimetype": "text/x-python",
   "name": "python",
   "nbconvert_exporter": "python",
   "pygments_lexer": "ipython2",
   "version": "2.7.6"
  }
 },
 "nbformat": 4,
 "nbformat_minor": 0
}